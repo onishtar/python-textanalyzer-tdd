{
 "cells": [
  {
   "cell_type": "markdown",
   "metadata": {},
   "source": [
    "# Python TextAnalyzer developed using Test Driven Development TDD"
   ]
  },
  {
   "cell_type": "markdown",
   "metadata": {},
   "source": [
    "## The TextAnalyzer class accepts 3 types on input:\n",
    "- Website url starting with http\n",
    "- Text file ending with txt\n",
    "- Plan Text \n",
    "\n",
    "## Methods or functions:\n",
    "- __init__()\n",
    "  A constructor\n",
    "- discover() \n",
    "  Finds if the input is url, txt or plan text and open the input as per file type\n",
    "- set_context_to_tag()\n",
    "  Parses the webwite using url and parser BeautifulSoup\n",
    "- reset_content()\n",
    "  Set _content back to orginal as retrieved from source\n",
    "- _words()\n",
    "  The list of words in the document\n",
    "- common_words()\n",
    "  Count of words\n",
    "- char_distribution()\n",
    "  The letters used and the count\n",
    "- plot_common_words()\n",
    "  Setting for the words and frequency to be used in a plot\n",
    "- plot_char_distribution()\n",
    "  Setting for the characters and frequency to be used in a plot\n",
    "  \n",
    "## Properties (data from the source input)\n",
    "- words\n",
    "  A list of words\n",
    "- avg_word_length\n",
    "  Average word length\n",
    "- word_count\n",
    "  Word Count\n",
    "- distinct_word_count\n",
    "  Distinct Word Count\n",
    "- positivity\n",
    "  -Uses Negative and Postive word list and determines the positivity of the input source"
   ]
  },
  {
   "cell_type": "code",
   "execution_count": 1,
   "metadata": {
    "scrolled": true
   },
   "outputs": [],
   "source": [
    "import requests, re\n",
    "from bs4 import BeautifulSoup\n",
    "from collections import Counter\n",
    "import statistics as stats\n",
    "import string\n",
    "\n",
    "#create your class here\n",
    "class TextAnalyzer:\n",
    "    \"\"\" Python TextAnalyzer developed using Test Driven Development TDD\"\"\"\n",
    "    def __init__(self, src, src_type=None):\n",
    "        \"\"\"\n",
    "        The TextAnalyzer class accepts 3 types on input:\n",
    "        Website url starting with http\n",
    "        Text file ending with txt\n",
    "        Plan Text\n",
    "        \"\"\"\n",
    "        self._src = src\n",
    "        self._src_type = src_type\n",
    "        self._orig_content = None\n",
    "        self._content = None\n",
    "\n",
    "        self.discover()\n",
    "\n",
    "\n",
    "    def discover(self):\n",
    "        \"\"\"Finds if the input is url, txt or plan text and open the input as per file type\"\"\"\n",
    "        if self._src.startswith('http'):\n",
    "            self._src_type = 'url'\n",
    "            \n",
    "            headers = {'user-agent': 'TextAnalyzer'}\n",
    "            req = requests.get(self._src, headers=headers)\n",
    "            self._content = self._orig_content = req.text\n",
    "        \n",
    "        elif self._src.endswith('txt'):\n",
    "            self._src_type = 'path'\n",
    "            with open(self._src, 'r') as f:\n",
    "                self._content = f.read()\n",
    "                \n",
    "        else:\n",
    "            self._src_type = 'text'\n",
    "            self._content = self._src                                        \n",
    "    \n",
    "    def set_content_to_tag(self, tag, tag_id):\n",
    "        \"\"\"Parses the webwite using url and parser BeautifulSoup\"\"\"\n",
    "        try:\n",
    "            soup = BeautifulSoup(self._content, 'html.parser')\n",
    "            self._content = soup.find(tag, {'id': tag_id}).get_text()\n",
    "        except ValueError:\n",
    "            print(\"Error reading webpage with BeautifulSoup tag {tag} and tag_id {tag_id}\")\n",
    "\n",
    "    def reset_content(self):\n",
    "        \"\"\"Set _content back to orginal as retrieved from source\"\"\"\n",
    "        self._content = self._orig_content\n",
    "        return self._content\n",
    "\n",
    "    def _words(self, casesensitive=False):\n",
    "        \"\"\"A list of words\"\"\"\n",
    "        if casesensitive is False:\n",
    "            words = [word.strip(string.punctuation).upper() \n",
    "                     for word in self._content.split()] \n",
    "        else:\n",
    "            words = [word.strip(string.punctuation) \n",
    "                     for word in self._content.split()]\n",
    "        return words  \n",
    "\n",
    "    def common_words(self, minlen=1, maxlen=100, count=10, casesensitive=False):\n",
    "        \"\"\"The list of words with count\"\"\"\n",
    "        _word_list = []\n",
    "        if casesensitive is False:\n",
    "            _word_list = [w.upper() for w in self.words if (len(w) >= minlen) & (len(w) <= maxlen)]\n",
    "        else:\n",
    "            _word_list = [w for w in self.words if (len(w) >= minlen) & (len(w) <= maxlen)]\n",
    "        cnt = Counter(_word_list)\n",
    "        return cnt.most_common(count)\n",
    "    \n",
    "    def char_distribution(self, casesensitive=False, letters_only=False):\n",
    "        \"\"\"The letters used and the count\"\"\"\n",
    "        chars = []\n",
    "        # Remove any non aplha letters\n",
    "        chars_alpha = re.compile('[^a-zA-Z]').sub('', self._content.rstrip('\\n'))\n",
    "\n",
    "        if casesensitive and letters_only:\n",
    "            chars = [char.strip(string.punctuation) for char in chars_alpha]\n",
    "        elif casesensitive and not letters_only:           \n",
    "            chars = [char for char in self._content]\n",
    "        elif not casesensitive and letters_only:\n",
    "            chars = [char.strip(string.punctuation).upper() for char in chars_alpha]\n",
    "        elif not casesensitive and not letters_only:\n",
    "            chars = [char.upper() for char in self._content]\n",
    "            \n",
    "        cnt_chars = Counter(chars)\n",
    "        char_dist = cnt_chars.most_common() \n",
    "        char_dist_sorted = sorted(char_dist, key=lambda x: x[1], reverse=False)\n",
    "        return char_dist\n",
    "\n",
    "    def plot_common_words(self, minlen=1, maxlen=100, count=10, casesensitive=False):\n",
    "        \"\"\"Setting for the words and frequency to be used in a plot\"\"\"\n",
    " \n",
    "        df_cw = pd.DataFrame(self.common_words(minlen, maxlen, count, casesensitive))\n",
    "    \n",
    "        df_cw.columns = ['Word', 'Count']\n",
    "        df_cw.index = df_cw['Word']\n",
    "\n",
    "        plt_words = df_cw.plot(kind='bar',\n",
    "                               title='Common Words',\n",
    "                               figsize=(14,3),\n",
    "                               width=.8,\n",
    "                               fontsize=16)\n",
    "        plt_words.set_ylabel('Word', fontsize=20)\n",
    "        plt_words.set_xlabel('Count', fontsize=20)\n",
    "        plt_words.grid(True)\n",
    "        \n",
    "    def plot_char_distribution(self, casesensitive=False, letters_only=False):\n",
    "        \"\"\"Setting for the characters and frequency to be used in a plot\"\"\"\n",
    " \n",
    "        df_cd = pd.DataFrame(self.char_distribution(casesensitive, letters_only))\n",
    "    \n",
    "        df_cd.columns = ['Character', 'Count']\n",
    "        df_cd.index = df_cd['Character']\n",
    "\n",
    "        plt_chars = df_cd.plot(kind='bar',\n",
    "                               title='Character Distribution',\n",
    "                               figsize=(14, 4),\n",
    "                               width=.8,\n",
    "                               fontsize=16)\n",
    "        plt_chars.set_ylabel('Character', fontsize=20)\n",
    "        plt_chars.set_xlabel('Count', fontsize=20)\n",
    "        plt_chars.grid(True)\n",
    "\n",
    "    @property\n",
    "    def words(self):\n",
    "        \"\"\"A list of words\"\"\"\n",
    "        return self._words()\n",
    "    \n",
    "    @property\n",
    "    def avg_word_length(self):\n",
    "        \"\"\"Average word length\"\"\"\n",
    "        _avg_word_length = sum([len(w) for w in self.words]) / len(self._words())\n",
    "        return round(_avg_word_length, 2)\n",
    "    \n",
    "    @property\n",
    "    def word_count(self):\n",
    "        \"\"\"Word Count\"\"\"\n",
    "        return len(self._words())\n",
    "    \n",
    "    @property\n",
    "    def distinct_word_count(self):\n",
    "        \"\"\"Distinct Word Count\"\"\"\n",
    "        return len(set(self._words()))\n",
    "    \n",
    "    @property\n",
    "    def positivity(self):\n",
    "        \"\"\"Negative and Postive word list and determines the positivity of the input source\"\"\"\n",
    "        with open('positive.txt', 'r') as _f:\n",
    "            list_of_lines = _f.readlines() \n",
    "            positive_words = []\n",
    "        for word in list_of_lines:\n",
    "            positive_words = [word.strip(string.punctuation).rstrip('\\n').upper() for word in list_of_lines]\n",
    "\n",
    "\n",
    "        with open('negative.txt', 'r') as _f:\n",
    "            list_of_lines = _f.readlines()\n",
    "            negative_words = []\n",
    "        for word in list_of_lines:\n",
    "            negative_words = [word.strip(string.punctuation).rstrip('\\n').upper() for word in list_of_lines]\n",
    "\n",
    "        matches = []\n",
    "        tally = 0\n",
    "        positive = 0\n",
    "        negative = 0\n",
    "        # Comapring overall words in _content with positive and negative list\n",
    "        for w in self.words:\n",
    "            for p in positive_words:\n",
    "                if w == p:\n",
    "                    positive += 1\n",
    "                    tally += 1\n",
    "                    matches.append((w, p, tally))\n",
    "            for n in negative_words:\n",
    "                if w == n:\n",
    "                    negative += 1\n",
    "                    tally -= 1\n",
    "                    matches.append((w, n, tally))\n",
    "\n",
    "\n",
    "        _positivity = round(tally / self.word_count * 1000)\n",
    "\n",
    "        return _positivity\n",
    "\n",
    "\n",
    "    \n",
    "\n"
   ]
  },
  {
   "cell_type": "code",
   "execution_count": 2,
   "metadata": {},
   "outputs": [
    {
     "name": "stderr",
     "output_type": "stream",
     "text": [
      "...........\n",
      "----------------------------------------------------------------------\n",
      "Ran 11 tests in 13.453s\n",
      "\n",
      "OK\n"
     ]
    },
    {
     "data": {
      "text/plain": [
       "<unittest.runner.TextTestResult run=11 errors=0 failures=0>"
      ]
     },
     "execution_count": 2,
     "metadata": {},
     "output_type": "execute_result"
    }
   ],
   "source": [
    "import unittest\n",
    "\n",
    "url = 'https://www.webucator.com/how-to/address-by-bill-clinton-1997.cfm'\n",
    "path = 'pride-and-prejudice.txt'\n",
    "text = '''The outlook wasn't brilliant for the Mudville Nine that day;\n",
    "the score stood four to two, with but one inning more to play.\n",
    "And then when Cooney died at first, and Barrows did the same,\n",
    "a sickly silence fell upon the patrons of the game.'''\n",
    "\n",
    "class TestTextAnalyzer(unittest.TestCase):\n",
    "    def test_discover_url(self):\n",
    "        ta = TextAnalyzer(url)\n",
    "        self.assertEqual(ta._src_type, 'url')\n",
    "    def test_discover_path(self):\n",
    "        ta = TextAnalyzer(path)\n",
    "        self.assertEqual(ta._src_type, 'path')\n",
    "    def test_discover_text(self):\n",
    "        ta = TextAnalyzer(text)\n",
    "        self.assertEqual(ta._src_type, 'text')\n",
    "    def test_set_content_to_tag(self):\n",
    "        ta = TextAnalyzer(url)\n",
    "        ta.set_content_to_tag('div','content-main')\n",
    "        self.assertEqual(ta._content[0:25], '\\n\\nAddress by Bill Clinton')\n",
    "    def test_reset_content(self):\n",
    "        ta = TextAnalyzer(url)\n",
    "        ta.set_content_to_tag('div','content-main')\n",
    "        ta.reset_content()\n",
    "        self.assertEqual(ta._content[0], '<')\n",
    "    def test_common_words(self):\n",
    "        ta = TextAnalyzer(path, src_type='path')\n",
    "        common_words = ta.common_words(minlen=5, maxlen=10)\n",
    "        liz = common_words[0]\n",
    "        self.assertEqual(liz[0],'ELIZABETH')\n",
    "    def test_avg_word_length(self):\n",
    "        ta = TextAnalyzer(text, src_type='text')\n",
    "        self.assertEqual(ta.avg_word_length, 4.16)\n",
    "    def test_word_count(self):\n",
    "        ta = TextAnalyzer(text, src_type='text')\n",
    "        self.assertEqual(ta.word_count, 45)\n",
    "    def test_distinct_word_count(self):\n",
    "        ta = TextAnalyzer(text, src_type='text')\n",
    "        self.assertEqual(ta.distinct_word_count, 38)\n",
    "    def test_char_distribution(self):\n",
    "        ta = TextAnalyzer(text, src_type='text')\n",
    "        char_dist = ta.char_distribution(letters_only=True)\n",
    "        self.assertEqual(char_dist[1][1], 20)\n",
    "    def test_positivity(self):\n",
    "        ta = TextAnalyzer(text, src_type='text')\n",
    "        positivity = ta.positivity\n",
    "        self.assertEqual(positivity, -44)\n",
    "        \n",
    "suite = unittest.TestLoader().loadTestsFromTestCase(TestTextAnalyzer)\n",
    "unittest.TextTestRunner().run(suite)"
   ]
  },
  {
   "cell_type": "markdown",
   "metadata": {},
   "source": [
    "## Plots\n",
    "You should also run the cell below to make sure your plot methods work. They should produce plots that look like the images found at:\n",
    "* <a href=\"character-distribution.png\" target=\"image_win\">character-distribution.png</a>\n",
    "* <a href=\"common-words.png\" target=\"image_win\">common-words.png</a>"
   ]
  },
  {
   "cell_type": "code",
   "execution_count": 3,
   "metadata": {
    "scrolled": true
   },
   "outputs": [
    {
     "data": {
      "image/png": "[encoded data removed]",
      "text/plain": [
       "<Figure size 1008x216 with 1 Axes>"
      ]
     },
     "metadata": {
      "needs_background": "light"
     },
     "output_type": "display_data"
    }
   ],
   "source": [
    "%matplotlib inline\n",
    "import numpy as np\n",
    "import pandas as pd\n",
    "\n",
    "pd.set_option('display.max_columns', 10)\n",
    "pd.set_option('display.max_rows', 10)\n",
    "\n",
    "ta = TextAnalyzer('pride-and-prejudice.txt', src_type='path')\n",
    "ta.plot_common_words(minlen=5, maxlen=10, count=15, casesensitive=False)"
   ]
  },
  {
   "cell_type": "code",
   "execution_count": 4,
   "metadata": {},
   "outputs": [
    {
     "data": {
      "image/png": "[encoded data removed]",
      "text/plain": [
       "<Figure size 1008x288 with 1 Axes>"
      ]
     },
     "metadata": {
      "needs_background": "light"
     },
     "output_type": "display_data"
    }
   ],
   "source": [
    "ta.plot_char_distribution(letters_only=True)"
   ]
  },
  {
   "cell_type": "markdown",
   "metadata": {},
   "source": [
    "## Exam: Using the TextAnalyzer"
   ]
  },
  {
   "cell_type": "markdown",
   "metadata": {},
   "source": [
    "### Question 1\n",
    "How many words are in the text of William Henry Harrison's 1841 inaugaral address?\n",
    "* The address can be found at https://www.webucator.com/how-to/william-henry-harrisons-inaugural-address.cfm.\n",
    "* Its contents are in a div tag with the id 'content-main'."
   ]
  },
  {
   "cell_type": "code",
   "execution_count": 5,
   "metadata": {},
   "outputs": [
    {
     "name": "stdout",
     "output_type": "stream",
     "text": [
      "William Henry Harrison's 1841 inaugaral address has  8430  words\n"
     ]
    }
   ],
   "source": [
    "ta = TextAnalyzer('https://www.webucator.com/how-to/william-henry-harrisons-inaugural-address.cfm')\n",
    "\n",
    "ta.set_content_to_tag(tag='div', tag_id='content-main')\n",
    "\n",
    "print(\"William Henry Harrison's 1841 inaugaral address has \", ta.word_count, \" words\")\n",
    "\n",
    "# William Henry Harrison's 1841 inaugaral address has 8430 words"
   ]
  },
  {
   "cell_type": "markdown",
   "metadata": {},
   "source": [
    "### Question 2\n",
    "What is the least common letter in pride-and-prejudice.txt?"
   ]
  },
  {
   "cell_type": "code",
   "execution_count": 6,
   "metadata": {},
   "outputs": [
    {
     "name": "stdout",
     "output_type": "stream",
     "text": [
      "The the least common letter in pride-and-prejudice.txt is  Q\n"
     ]
    }
   ],
   "source": [
    "ta = TextAnalyzer('pride-and-prejudice.txt')\n",
    "\n",
    "least_common_letter = sorted(ta.char_distribution(letters_only=True), key=lambda x:x[1])[0][0]\n",
    "\n",
    "print(\"The the least common letter in pride-and-prejudice.txt is \", least_common_letter)\n",
    "\n",
    "# The the least common letter in pride-and-prejudice.txt is  Q"
   ]
  },
  {
   "cell_type": "markdown",
   "metadata": {},
   "source": [
    "### Question 3\n",
    "What is the most common 11-letter word in pride-and-prejudice.txt?  "
   ]
  },
  {
   "cell_type": "code",
   "execution_count": 7,
   "metadata": {
    "scrolled": true
   },
   "outputs": [
    {
     "name": "stdout",
     "output_type": "stream",
     "text": [
      "The most common 11-letter word in pride-and-prejudice.txt is  NETHERFIELD\n"
     ]
    }
   ],
   "source": [
    "ta = TextAnalyzer('pride-and-prejudice.txt')\n",
    "\n",
    "most_common_11_letter_word = ta.common_words(minlen=11, maxlen=100, count=3)[0][0]\n",
    "\n",
    "print(\"The most common 11-letter word in pride-and-prejudice.txt is \", most_common_11_letter_word)\n",
    "\n",
    "# The most common 11-letter word in pride-and-prejudice.txt is  NETHERFIELD"
   ]
  },
  {
   "cell_type": "markdown",
   "metadata": {},
   "source": [
    "### Question 4\n",
    "What is the average word length in pride-and-prejudice.txt?"
   ]
  },
  {
   "cell_type": "code",
   "execution_count": 8,
   "metadata": {},
   "outputs": [
    {
     "name": "stdout",
     "output_type": "stream",
     "text": [
      "The average word length in pride-and-prejudice.txt is  4.43\n"
     ]
    }
   ],
   "source": [
    "ta = TextAnalyzer('pride-and-prejudice.txt')\n",
    "\n",
    "print(\"The average word length in pride-and-prejudice.txt is \", ta.avg_word_length)\n",
    "\n",
    "# The average word length in pride-and-prejudice.txt is  4.43"
   ]
  },
  {
   "cell_type": "markdown",
   "metadata": {},
   "source": [
    "### Question 5\n",
    "How many distinct words are there in pride-and-prejudice.txt?"
   ]
  },
  {
   "cell_type": "code",
   "execution_count": 9,
   "metadata": {},
   "outputs": [
    {
     "name": "stdout",
     "output_type": "stream",
     "text": [
      "The distinct words are there in pride-and-prejudice.txt is  6839\n"
     ]
    }
   ],
   "source": [
    "ta = TextAnalyzer('pride-and-prejudice.txt')\n",
    "\n",
    "print(\"The distinct words are there in pride-and-prejudice.txt is \", ta.distinct_word_count)\n",
    "\n",
    "# The distinct words are there in pride-and-prejudice.txt is  6839"
   ]
  },
  {
   "cell_type": "markdown",
   "metadata": {},
   "source": [
    "### Question 6\n",
    "How many words, ignoring case, are used only once in pride-and-prejudice.txt?"
   ]
  },
  {
   "cell_type": "code",
   "execution_count": 10,
   "metadata": {},
   "outputs": [
    {
     "name": "stdout",
     "output_type": "stream",
     "text": [
      "Words ignoring case are used only once in pride-and-prejudice.txt 2886\n"
     ]
    }
   ],
   "source": [
    "ta = TextAnalyzer('pride-and-prejudice.txt')\n",
    "\n",
    "count_singles = 0\n",
    "\n",
    "for word, length in ta.common_words(count=None):\n",
    "    if length == 1:\n",
    "        count_singles += 1\n",
    "\n",
    "print(\"Words ignoring case are used only once in pride-and-prejudice.txt\" , count_singles)\n",
    "\n",
    "# Words ignoring case are used only once in pride-and-prejudice.txt 2886"
   ]
  },
  {
   "cell_type": "markdown",
   "metadata": {},
   "source": [
    "### Question 7\n",
    "How many distinct words in pride-and-prejudice.txt have less than five characters, at least one character of which is a capital 'A'."
   ]
  },
  {
   "cell_type": "code",
   "execution_count": 11,
   "metadata": {},
   "outputs": [
    {
     "name": "stdout",
     "output_type": "stream",
     "text": [
      "['AND', 'A', 'WAS', 'THAT', 'AS', 'HAD', 'HAVE', 'AT', 'ALL', 'WHAT', 'SAID', 'DARCY', 'AN', 'ARE', 'AM', 'THAN', 'ANY', 'JANE', 'HAS', 'CAN', 'AFTER', 'MAY', 'LADY', 'AGAIN', 'MAKE', 'SHALL', 'SAY', 'DEAR', 'MAN', 'GREAT', 'LYDIA', 'DAY', 'MADE', 'ABOUT', 'LAST', 'MANY', 'AWAY', 'WAY', 'SAW', 'CAME', 'HEARD', 'HAPPY', 'TAKE', 'AUNT', 'PLACE', 'HEAR', 'ADDED', 'SAME', 'SPEAK', 'LUCAS', 'LEAST', 'EACH', 'PART', 'LEAVE', 'BEGAN', 'FAR', 'PARTY', 'MEANS', 'WOMAN', 'GAVE', 'ABLE', 'WALK', 'IDEA', 'HALF', 'HEART', 'WANT', 'MARRY', 'BACK', 'DARE', 'READ', 'ASKED', 'MARY', 'SAT', 'NEAR', 'GLAD', 'STAY', 'YEARS', 'CARE', 'MEAN', 'DEAL', 'ALSO', 'USUAL', 'BALL', 'NAME', 'TALK', 'DANCE', 'ASK', 'HEAD', 'TAKEN', 'REAL', 'CASE', 'DAYS', 'AIR', 'ALONE', 'EQUAL', 'ALLOW', 'YEAR', 'MEANT', 'EARLY', 'CALL', 'FACE', 'TABLE', 'PAIN', 'PRAY', 'AGO', 'AMONG', 'BEAR', 'EASY', 'HAND', 'MATCH', 'LARGE', 'SAKE', 'FEAR', 'SMALL', 'PARK', 'FAIR', 'ABOVE', 'ELIZA', 'MADAM', 'VAIN', 'READY', 'FANCY', 'LATE', 'THANK', 'STATE', 'CAUSE', 'PAID', 'MARIA', 'PLAY', 'PAUSE', 'AVOID', 'ANGRY', 'EASE', 'LAUGH', 'WAIT', 'PASS', 'BLAME', 'SAYS', 'AGE', 'SHARE', 'FACT', 'BAD', 'AWARE', 'ALARM', 'IDEAS', 'PLAN', 'TASTE', 'RAN', 'EAGER', 'DARED', 'ANGER', 'ROAD', 'ADD', 'FALSE', 'MAMMA', 'RANK', 'HARD', 'PAY', 'ALOUD', 'BOAST', 'TEA', 'HALL', 'WANTS', 'STAND', 'PLAIN', 'LEARN', 'COACH', 'SHAME', 'LANE', 'TEARS', 'FALL', 'ACT', 'FEARS', 'HATE', 'VALUE', 'GRAVE', 'HASTE', 'ALONG', 'PAST', 'LAID', 'SAFE', 'CLEAR', 'NAY', 'FAST', 'BALLS', 'REACH', 'ABODE', 'DEATH', 'DRAWN', 'TALL', 'MAKES', 'HABIT', 'GUARD', 'SPARE', 'CARDS', 'GAME', 'HANDS', 'CARED', 'ARISE', 'CASES', 'AGREE', 'DRAW', 'FAULT', 'HUMAN', \"MA'AM\", 'NAMES', 'DELAY', 'LEAD', 'LAY', 'CHARM', 'TAKES', 'PEACE', 'ACTED', 'WEAK', 'WARM', 'FAIL', 'ADMIT', 'LAKES', 'GATE', 'SEAT', 'CHAIR', 'AH', 'PARTS', 'HASTY', \"MAN'S\", 'EAT', 'AMUSE', 'DEAD', 'TREAT', 'CLAIM', 'RATE', 'AROSE', 'CALM', 'PAPER', 'ADIEU', 'CARRY', 'TEACH', 'PAPA', 'LAWN', 'AYE', 'COAT', 'TRADE', \"DAY'S\", 'RAIN', 'ASIDE', 'ARTS', 'CATCH', 'PATH', 'LAW', 'ANNE', 'WARN', 'MARK', 'HATED', 'HARM', 'PALE', 'MEAT', 'PAINS', 'SAD', 'TRACE', 'DREAD', 'SAVE', 'ANGEL', 'ADOPT', 'RAPID', 'HAIR', 'EXACT', 'ART', 'VARY', 'PLANS', 'TOTAL', 'LEADS', 'ADDS', 'APPLY', 'MAID', 'DAILY', 'WALKS', 'LA', 'ATE', 'SAVED', 'HEAVY', 'AWE', 'LATER', 'ARMY', 'WATER', 'FACES', 'MORAL', 'ABUSE', 'TEAR', 'SAKES', 'MANOR', 'PACK', 'DARK', 'SHAKE', 'PAIR', 'AMPLE', 'SMART', 'FARM', 'WEARY', 'RANGE', 'BEARS', 'VAST', 'TAX', 'AWFUL', 'SHAPE', 'ARM', 'GAILY', 'PAGE', 'YAWN', 'CAST', 'AWAKE', 'TEASE', 'SHADE', 'MARKS', 'AWED', 'SEATS', 'ANNUM', 'AMPLY', 'HATES', 'CLASS', 'CARD', 'TRIAL', 'BREAK', 'PLEAD', 'FALLS', 'WATCH', 'CEASE', 'GRAND', 'ALIKE', 'SLAVE', 'MARCH', 'GAIN', 'PALES', 'SADLY', 'START', 'GATES', 'DATED', 'ACUTE', 'ATONE', 'ALAS', 'SATIN', \"CAN'T\", 'PRATT', 'VAGUE', 'SHARP', 'FATE', 'ALOOF', 'RAGE', 'GAY', 'BRAIN', 'CAMP', 'BANKS', 'DATE', 'CARES', 'SPACE', 'ALIVE', 'FARE', 'STAID', 'HAT', 'BLACK', 'ANKLE', 'LACE', 'APT', 'HACK', 'AIRS', 'ADEPT', 'MALE', 'BARE', 'STAYS', 'PACE', 'ACHED', 'PAINT', 'LEASE', 'ALTER', 'EAR', 'HARP', 'FLAT', 'SANG', 'SOFAS', 'AIMED', 'RAIL', 'HEAL', 'FAME', 'GAPED', 'PAGES', 'TALKS', 'STAMP', 'AMID', 'HAT-A', 'CHINA', 'LEGAL', 'ME-A', 'FACTS', 'GRACE', 'COATS', 'AMAZE', 'ECLAT', 'LAITY', 'TRAIN', 'HAM', 'WAVE', 'ALTAR', 'RANG', 'BEAUX', 'EVADE', 'AVAIL', 'RATED', 'PANG', 'WEAR', 'AGONY', 'LAD', 'ROADS', 'WAYS', 'NEAT', 'FAINT', 'PLATE', 'ARCH', 'AMISS', 'LOCAL', 'GAZE', 'HAUNT', 'EARL', 'AWOKE', 'AID', 'TRAIT', 'GRASP', 'ABIDE', 'SALAD', 'WEARS', 'HEARS', 'NASTY', 'RACE', 'APACE', 'ANEW', 'WARD', 'GAYER', 'AUGHT', 'WAR', 'PEAK', 'SPARS', 'GAUDY', 'PLAYS', 'HER-A', 'YARDS', 'NAMED', 'DALE', 'HEADS', 'SCALE', 'RIVAL', 'OAKS', 'CAKE', 'GLASS', 'CALLS', 'BALM', 'SALLY', 'REAP', 'STAGE', 'BOARD', 'DAMP', 'HAYE', 'VALID', 'FRAME', 'GRAIN', 'SAUCY', 'PALER', 'FAT', 'SARAH', 'HANG', 'SASH', 'WASTE', 'BASIS', 'CHEAT', 'TACIT', 'AUNTS', 'FINAL', 'LAND', 'APRIL', 'LANES', 'RANT', 'CHEAP', 'BATH']\n",
      "Distinct words have less than five characters, at least one character of which is a capital 'A' are:  480\n"
     ]
    }
   ],
   "source": [
    "ta = TextAnalyzer('pride-and-prejudice.txt')\n",
    "\n",
    "A_list = []\n",
    "\n",
    "for word in ta.common_words(minlen=1, maxlen=5, count=None, casesensitive=False):\n",
    "    \n",
    "    if re.search('A', word[0]):\n",
    "        A_list.append(word[0])\n",
    "        \n",
    "print(A_list)\n",
    "print(\"Distinct words have less than five characters, at least one character of which is a capital 'A' are: \", len(A_list))\n",
    "\n",
    "# Distinct words have less than five characters, at least one character of which is a capital 'A' are:  480"
   ]
  },
  {
   "cell_type": "markdown",
   "metadata": {},
   "source": [
    "### Question 8\n",
    "A palindrome is a word spelled the same forwards and backwards, like BOB. How many distinct palindromes are there in pride-and-prejudice.txt.\n",
    "* Only include words with at least three letters."
   ]
  },
  {
   "cell_type": "code",
   "execution_count": 12,
   "metadata": {},
   "outputs": [
    {
     "name": "stdout",
     "output_type": "stream",
     "text": [
      "The number of Palindromes with at least 3 letters in pride-and-prejudice.txt are:  9\n"
     ]
    }
   ],
   "source": [
    "ta = TextAnalyzer('pride-and-prejudice.txt')\n",
    "\n",
    "list_palindromes = []\n",
    "\n",
    "for word in ta.common_words(minlen=3, maxlen=100, count=None, casesensitive=False):\n",
    "    \n",
    "    if word[0]  == word[0][::-1]:\n",
    "        list_palindromes.append(word[0])\n",
    "\n",
    "print(\"The number of Palindromes with at least 3 letters in pride-and-prejudice.txt are: \", len(list_palindromes))\n",
    "\n",
    "# The number of Palindromes with at least 3 letters in pride-and-prejudice.txt are:  9"
   ]
  },
  {
   "cell_type": "markdown",
   "metadata": {},
   "source": [
    "### Question 9\n",
    "What is the positivity rating of 'pride-and-prejudice.txt'"
   ]
  },
  {
   "cell_type": "code",
   "execution_count": 13,
   "metadata": {},
   "outputs": [
    {
     "name": "stdout",
     "output_type": "stream",
     "text": [
      "The the positivity rating of 'pride-and-prejudice.txt is : 11\n"
     ]
    }
   ],
   "source": [
    "ta = TextAnalyzer('pride-and-prejudice.txt')\n",
    "\n",
    "ta.positivity\n",
    "\n",
    "print(\"The the positivity rating of 'pride-and-prejudice.txt is :\",  ta.positivity)"
   ]
  },
  {
   "cell_type": "markdown",
   "metadata": {},
   "source": [
    "### Question 10\n",
    "Which of the following addresses (originally from http://www.inaugural.senate.gov/swearing-in/addresses) has the lowest positivity rating?\n",
    "1. https://www.webucator.com/how-to/george-bushs-inaugural-address.cfm\n",
    "1. https://www.webucator.com/how-to/harry-s-trumans-inaugural-address.cfm\n",
    "1. https://www.webucator.com/how-to/william-mckinleys-inaugural-address.cfm\n",
    "1. https://www.webucator.com/how-to/zachary-taylors-inaugural-address.cfm\n",
    "\n",
    "Note the contents of the addresses are in a div tag with the id 'content-main'."
   ]
  },
  {
   "cell_type": "code",
   "execution_count": 14,
   "metadata": {},
   "outputs": [
    {
     "name": "stdout",
     "output_type": "stream",
     "text": [
      "('https://www.webucator.com/how-to/george-bushs-inaugural-address.cfm', 36)\n",
      "('https://www.webucator.com/how-to/harry-s-trumans-inaugural-address.cfm', 44)\n",
      "('https://www.webucator.com/how-to/william-mckinleys-inaugural-address.cfm', 30)\n",
      "('https://www.webucator.com/how-to/zachary-taylors-inaugural-address.cfm', 51)\n",
      "The url:  https://www.webucator.com/how-to/william-mckinleys-inaugural-address.cfm  has the lowest positivity of:  30\n"
     ]
    }
   ],
   "source": [
    "list_positivity  = []\n",
    "\n",
    "url = 'https://www.webucator.com/how-to/george-bushs-inaugural-address.cfm'\n",
    "ta = TextAnalyzer(url)\n",
    "ta.set_content_to_tag(tag='div', tag_id='content-main')\n",
    "list_positivity.append((url, ta.positivity))\n",
    "print(list_positivity[0])\n",
    "\n",
    "\n",
    "url = 'https://www.webucator.com/how-to/harry-s-trumans-inaugural-address.cfm'\n",
    "ta = TextAnalyzer(url)\n",
    "ta.set_content_to_tag(tag='div', tag_id='content-main')\n",
    "list_positivity.append((url , ta.positivity))\n",
    "print(list_positivity[1])\n",
    "\n",
    "\n",
    "url = 'https://www.webucator.com/how-to/william-mckinleys-inaugural-address.cfm'\n",
    "ta = TextAnalyzer(url)\n",
    "ta.set_content_to_tag(tag='div', tag_id='content-main')\n",
    "list_positivity.append((url , ta.positivity))\n",
    "print(list_positivity[2])\n",
    "\n",
    "url = 'https://www.webucator.com/how-to/zachary-taylors-inaugural-address.cfm'\n",
    "ta = TextAnalyzer(url)\n",
    "ta.set_content_to_tag(tag='div', tag_id='content-main')\n",
    "list_positivity.append((url , ta.positivity))\n",
    "print(list_positivity[3])\n",
    "\n",
    "sorted_list = sorted(list_positivity, key = lambda x: x[1], reverse=False)\n",
    "\n",
    "print(\"The url: \", sorted_list[0][0], \" has the lowest positivity of: \", sorted_list[0][1])"
   ]
  },
  {
   "cell_type": "code",
   "execution_count": null,
   "metadata": {},
   "outputs": [],
   "source": []
  }
 ],
 "metadata": {
  "kernelspec": {
   "display_name": "Python 3",
   "language": "python",
   "name": "python3"
  },
  "language_info": {
   "codemirror_mode": {
    "name": "ipython",
    "version": 3
   },
   "file_extension": ".py",
   "mimetype": "text/x-python",
   "name": "python",
   "nbconvert_exporter": "python",
   "pygments_lexer": "ipython3",
   "version": "3.7.1"
  }
 },
 "nbformat": 4,
 "nbformat_minor": 1
}
